{
 "cells": [
  {
   "cell_type": "code",
   "execution_count": 1,
   "id": "9c3e9d55-db60-4fb7-8811-421bd3410c40",
   "metadata": {},
   "outputs": [
    {
     "name": "stdout",
     "output_type": "stream",
     "text": [
      "Setup Done\n"
     ]
    }
   ],
   "source": [
    "import pandas as pd\n",
    "import numpy as np\n",
    "import pandasql as psql\n",
    "\n",
    "print(\"Setup Done\")"
   ]
  },
  {
   "cell_type": "code",
   "execution_count": 2,
   "id": "af301902-c4da-425f-86d5-03a3941d66aa",
   "metadata": {},
   "outputs": [
    {
     "data": {
      "text/plain": [
       "(2349, 9)"
      ]
     },
     "execution_count": 2,
     "metadata": {},
     "output_type": "execute_result"
    }
   ],
   "source": [
    "# Load the csv file\n",
    "df = pd.read_csv('Skill_Test_Raw_File v2.csv')\n",
    "df.shape"
   ]
  },
  {
   "cell_type": "code",
   "execution_count": 3,
   "id": "dd85b490-ece7-4e3c-8785-78ab9921d3a5",
   "metadata": {},
   "outputs": [
    {
     "data": {
      "text/plain": [
       "Index(['Date', 'Create_Date__HubSpot_Contacts',\n",
       "       'First_Deal_Created_Date__HubSpot_Contacts',\n",
       "       'UW_utm_campaign__HubSpot_Contacts', 'IP_Country__HubSpot_Contacts',\n",
       "       'IP_City__HubSpot_Contacts',\n",
       "       'IP_State_CodeRegion_Code__HubSpot_Contacts',\n",
       "       'IP_StateRegion__HubSpot_Contacts', 'IP_Timezone__HubSpot_Contacts'],\n",
       "      dtype='object')"
      ]
     },
     "execution_count": 3,
     "metadata": {},
     "output_type": "execute_result"
    }
   ],
   "source": [
    "df.columns"
   ]
  },
  {
   "cell_type": "code",
   "execution_count": 4,
   "id": "8c66a680-46a9-442a-a0ae-37ec710a9d61",
   "metadata": {},
   "outputs": [
    {
     "data": {
      "text/plain": [
       "Index(['Date', 'Create_Date', 'First_Deal_Created_Date', 'UW_utm_campaign',\n",
       "       'IP_Country', 'IP_City', 'IP_State_CodeRegion_Code', 'IP_StateRegion',\n",
       "       'IP_Timezone'],\n",
       "      dtype='object')"
      ]
     },
     "execution_count": 4,
     "metadata": {},
     "output_type": "execute_result"
    }
   ],
   "source": [
    "df.columns = df.columns.str.replace('__HubSpot_Contacts', '', regex=False)\n",
    "df['IP_StateRegion'] = df['IP_StateRegion'].fillna('blank')\n",
    "\n",
    "df.columns"
   ]
  },
  {
   "cell_type": "code",
   "execution_count": 5,
   "id": "84caaeba-a3ed-41ad-ad1d-fe22c562528f",
   "metadata": {},
   "outputs": [],
   "source": [
    "# 1. Objective: Show the number of leads and deals per state region.\n",
    "#   a. A lead is identified if there is a create_date.\n",
    "#   b. A deal is identified if there is a first_deal_created_date.\n",
    "# 2. Date Range:\n",
    "#   a. Only include leads where the create_date is between 2024-07-01 and 2024-09-30 (inclusive).\n",
    "#   b. Only include deals where the first_deal_created_date is between 2024-07-01 and 2024-09-30 (inclusive).\n",
    "# 3. Campaign Filter: \n",
    "#   a. Only include leads and deals where the campaign name contains'2pmax'.\n"
   ]
  },
  {
   "cell_type": "code",
   "execution_count": 6,
   "id": "c36a9619-e1a9-4046-a7ed-6305547afae1",
   "metadata": {},
   "outputs": [],
   "source": [
    "query = \"\"\"\n",
    "    with leads as (\n",
    "        select\n",
    "            IP_StateRegion as state_region,\n",
    "            count(Create_Date) as leads_count\n",
    "        from df\n",
    "        where UW_utm_campaign like '%2pmax%'\n",
    "            and Create_Date between '2024-07-01' and '2024-09-30'\n",
    "        group by\n",
    "            IP_State_CodeRegion_Code\n",
    "    ),\n",
    "    deals as (\n",
    "        select\n",
    "            IP_StateRegion as state_region,\n",
    "            count(First_Deal_Created_Date) as deals_count\n",
    "        from df\n",
    "        where UW_utm_campaign like '%2pmax%'\n",
    "            and First_Deal_Created_Date between '2024-07-01' and '2024-09-30'\n",
    "        group by\n",
    "            IP_State_CodeRegion_Code    \n",
    "    )\n",
    "    select \n",
    "        coalesce(leads.state_region, deals.state_region) as state_region,\n",
    "        coalesce(leads.leads_count, 0) as leads,\n",
    "        coalesce(deals.deals_count, 0) as deals\n",
    "    from \n",
    "        leads full outer join deals\n",
    "            on leads.state_region = deals.state_region\n",
    "    union all\n",
    "    select\n",
    "        'TOTAL' as state_region,\n",
    "        sum(coalesce(leads.leads_count, 0)) as leads,\n",
    "        sum(coalesce(deals.deals_count, 0)) as deals\n",
    "    from \n",
    "        leads full outer join deals\n",
    "            on leads.state_region = deals.state_region\n",
    "\"\"\""
   ]
  },
  {
   "cell_type": "code",
   "execution_count": 7,
   "id": "a320dc5d-8f11-4023-9e4a-29d143e59cb9",
   "metadata": {},
   "outputs": [
    {
     "name": "stdout",
     "output_type": "stream",
     "text": [
      "            state_region  leads  deals\n",
      "0                  blank      3      1\n",
      "1             california     12      7\n",
      "2               colorado      1      1\n",
      "3   district of columbia      1      1\n",
      "4               delaware      1      1\n",
      "5                florida      4      3\n",
      "6                   iowa      1      0\n",
      "7               illinois      1      1\n",
      "8               kentucky      1      1\n",
      "9                  maine      1      1\n",
      "10              michigan      1      1\n",
      "11             minnesota      2      1\n",
      "12              missouri      2      1\n",
      "13        north carolina      1      1\n",
      "14            new jersey      1      0\n",
      "15                nevada      1      1\n",
      "16              new york     10      6\n",
      "17                  ohio      1      1\n",
      "18                oregon     38     27\n",
      "19          pennsylvania      2      3\n",
      "20          rhode island      2      1\n",
      "21        south carolina      2      2\n",
      "22             tennessee      2      1\n",
      "23                 texas      3      2\n",
      "24              virginia      1      1\n",
      "25            washington      1      1\n",
      "26                 TOTAL     96     67\n"
     ]
    }
   ],
   "source": [
    "result = psql.sqldf(query, locals())\n",
    "print(result)"
   ]
  },
  {
   "cell_type": "code",
   "execution_count": 8,
   "id": "74f40c93-bcd9-4a41-ad12-a313ee7bf2e5",
   "metadata": {},
   "outputs": [],
   "source": [
    "alternate_query = \"\"\"\n",
    "    with leads_and_deals as (\n",
    "        select\n",
    "            IP_StateRegion as state_region,            \n",
    "            case\n",
    "                when \n",
    "                    Create_Date is not null \n",
    "                    and Create_Date between '2024-07-01' and '2024-09-30' \n",
    "                    and UW_utm_campaign like '%2pmax%'\n",
    "                then 1\n",
    "                else 0\n",
    "            end as is_lead,         \n",
    "            case\n",
    "                when \n",
    "                    First_Deal_Created_Date is not null \n",
    "                    and First_Deal_Created_Date between '2024-07-01' and '2024-09-30' \n",
    "                    and UW_utm_campaign like '%2pmax%'\n",
    "                then 1\n",
    "                else 0\n",
    "            end as is_deal\n",
    "        from df  \n",
    "    )\n",
    "        select\n",
    "            state_region,\n",
    "            sum(is_lead) as leads,\n",
    "            sum(is_deal) as deals\n",
    "        from leads_and_deals\n",
    "        where is_lead > 0 or is_deal > 0\n",
    "        group by state_region\n",
    "        union all\n",
    "        select\n",
    "            'TOTAL' as state_region,\n",
    "            sum(is_lead) as leads,\n",
    "            sum(is_deal) as deals\n",
    "        from leads_and_deals\n",
    "\"\"\""
   ]
  },
  {
   "cell_type": "code",
   "execution_count": 9,
   "id": "88c93a0d-c4b7-4beb-a246-403d7ca8fdab",
   "metadata": {},
   "outputs": [
    {
     "name": "stdout",
     "output_type": "stream",
     "text": [
      "            state_region  leads_count  deals_count\n",
      "0                  blank            3            1\n",
      "1             california           12            7\n",
      "2               colorado            1            1\n",
      "3               delaware            1            1\n",
      "4   district of columbia            1            1\n",
      "5                florida            4            3\n",
      "6               illinois            1            1\n",
      "7                   iowa            1            0\n",
      "8               kentucky            1            1\n",
      "9                  maine            1            1\n",
      "10              michigan            1            1\n",
      "11             minnesota            2            1\n",
      "12              missouri            2            1\n",
      "13                nevada            1            1\n",
      "14            new jersey            1            0\n",
      "15              new york           10            6\n",
      "16        north carolina            1            1\n",
      "17                  ohio            1            1\n",
      "18                oregon           38           27\n",
      "19          pennsylvania            2            3\n",
      "20          rhode island            2            1\n",
      "21        south carolina            2            2\n",
      "22             tennessee            2            1\n",
      "23                 texas            3            2\n",
      "24              virginia            1            1\n",
      "25            washington            1            1\n",
      "26                 TOTAL           96           67\n"
     ]
    }
   ],
   "source": [
    "result_from_alternate_query = psql.sqldf(alternate_query, locals())\n",
    "print(result_from_alternate_query)"
   ]
  }
 ],
 "metadata": {
  "kernelspec": {
   "display_name": "Python 3 (ipykernel)",
   "language": "python",
   "name": "python3"
  },
  "language_info": {
   "codemirror_mode": {
    "name": "ipython",
    "version": 3
   },
   "file_extension": ".py",
   "mimetype": "text/x-python",
   "name": "python",
   "nbconvert_exporter": "python",
   "pygments_lexer": "ipython3",
   "version": "3.10.11"
  }
 },
 "nbformat": 4,
 "nbformat_minor": 5
}
